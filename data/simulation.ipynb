{
 "cells": [
  {
   "cell_type": "code",
   "execution_count": 1,
   "metadata": {},
   "outputs": [],
   "source": [
    "import math\n",
    "import random\n",
    "def f(x):\n",
    "    return math.sqrt(x + 1) / 100 * (100 - x) - 0.625  "
   ]
  },
  {
   "cell_type": "code",
   "execution_count": 2,
   "metadata": {},
   "outputs": [],
   "source": [
    "x0 = 10"
   ]
  },
  {
   "cell_type": "code",
   "execution_count": 3,
   "metadata": {
    "scrolled": true
   },
   "outputs": [
    {
     "name": "stdout",
     "output_type": "stream",
     "text": [
      "0 10\n",
      "1 12\n",
      "2 17\n",
      "3 25\n",
      "4 35\n",
      "5 49\n",
      "6 66\n",
      "7 86\n",
      "8 109\n",
      "9 136\n",
      "10 166\n",
      "11 199\n",
      "12 235\n",
      "13 275\n",
      "14 317\n",
      "15 362\n",
      "16 410\n",
      "17 461\n",
      "18 514\n",
      "19 569\n",
      "20 627\n",
      "21 686\n",
      "22 748\n",
      "23 811\n",
      "24 876\n",
      "25 943\n",
      "26 1011\n",
      "27 1080\n",
      "28 1150\n",
      "29 1222\n",
      "30 1295\n",
      "31 1369\n",
      "32 1443\n",
      "33 1518\n",
      "34 1595\n",
      "35 1671\n",
      "36 1749\n",
      "37 1827\n",
      "38 1905\n",
      "39 1984\n",
      "40 2063\n",
      "41 2143\n",
      "42 2223\n",
      "43 2304\n",
      "44 2384\n",
      "45 2465\n",
      "46 2546\n",
      "47 2628\n",
      "48 2710\n",
      "49 2791\n",
      "50 2873\n",
      "51 2955\n",
      "52 3038\n",
      "53 3120\n",
      "54 3203\n",
      "55 3285\n",
      "56 3368\n",
      "57 3451\n",
      "58 3533\n",
      "59 3616\n",
      "60 3699\n",
      "61 3782\n",
      "62 3865\n",
      "63 3949\n",
      "64 4032\n",
      "65 4115\n",
      "66 4198\n",
      "67 4281\n",
      "68 4365\n",
      "69 4448\n",
      "70 4531\n",
      "71 4615\n",
      "72 4698\n",
      "73 4782\n",
      "74 4865\n",
      "75 4948\n",
      "76 5032\n",
      "77 5115\n",
      "78 5199\n",
      "79 5282\n",
      "80 5366\n",
      "81 5449\n",
      "82 5533\n",
      "83 5616\n",
      "84 5700\n",
      "85 5783\n",
      "86 5867\n",
      "87 5950\n",
      "88 6034\n",
      "89 6117\n",
      "90 6201\n",
      "91 6285\n",
      "92 6368\n",
      "93 6452\n",
      "94 6535\n",
      "95 6619\n",
      "96 6702\n",
      "97 6786\n",
      "98 6869\n",
      "99 6953\n"
     ]
    }
   ],
   "source": [
    "s = 10\n",
    "x = x0\n",
    "for i in range(100):\n",
    "    s += x - 10\n",
    "    print(i, int(s))\n",
    "    x = f(x) + x"
   ]
  },
  {
   "cell_type": "code",
   "execution_count": 4,
   "metadata": {},
   "outputs": [
    {
     "data": {
      "text/plain": [
       "0.2681751893579727"
      ]
     },
     "execution_count": 4,
     "metadata": {},
     "output_type": "execute_result"
    }
   ],
   "source": [
    "random.uniform(0, 1)"
   ]
  },
  {
   "cell_type": "code",
   "execution_count": 11,
   "metadata": {},
   "outputs": [],
   "source": [
    "import math\n",
    "import random\n",
    "import numpy as np\n",
    "\n",
    "# Helper functions\n",
    "def grow(x):\n",
    "    return 1 if math.sqrt(x + 1) / 100 >= random.uniform(0, 1) else 0\n",
    "\n",
    "def shrink(x):\n",
    "    return 1 if 0.625 / x >= random.uniform(0, 1) else 0\n",
    "\n",
    "vecGrow = np.vectorize(grow)\n",
    "vecShrink = np.vectorize(shrink)\n",
    "\n",
    "def simulate_region(u, always = True):\n",
    "    if u == 0:\n",
    "        return 1 if always else grow(u)\n",
    "    nonusers = np.array([u for _ in range(100-u)])\n",
    "    users = np.array([u for _ in range(u)])\n",
    "    u += sum(vecGrow(nonusers))\n",
    "    u -= sum(vecShrink(users))\n",
    "    return u\n",
    "\n",
    "vecSimulate = np.vectorize(simulate_region)\n",
    "\n",
    "# Hyperparameters\n",
    "population = 100\n",
    "revenue = 10\n",
    "fixed_cost = 10\n",
    "num_neighbors = 4\n",
    "u0 = 10\n",
    "m0 = 0.20\n",
    "ms = [0.20, 0.22, 0.24, 0.26, 0.28, 0.30]\n",
    "u = u0\n",
    "\n",
    "# Simulation\n",
    "num_simulation = 500\n",
    "\n",
    "def simulate(u = u0, m = m0, revenue = revenue, fixed_cost = fixed_cost, num_neighbors = num_neighbors):\n",
    "    neighbors = [0 for _ in range(num_neighbors)]\n",
    "    for i in range(20):\n",
    "        u = simulate_region(u)\n",
    "        revenue += (u - fixed_cost)\n",
    "        if u > m * population:\n",
    "            neighbors = vecSimulate(neighbors)\n",
    "            revenue += sum([u for u in neighbors if u != 0])\n",
    "            revenue -= len(neighbors) * fixed_cost\n",
    "        if revenue < 0:\n",
    "            return 0\n",
    "    return revenue\n",
    "\n",
    "num_bankrupts = []\n",
    "avg_revenue_no_bankrupt = []\n",
    "avg_revenue_bankrupt = []\n",
    "for m in ms:\n",
    "    results = []\n",
    "    num_bankrupt = 0\n",
    "    for _ in range(num_simulation):\n",
    "        res = simulate(m = m)\n",
    "        if res == 0:\n",
    "            num_bankrupt += 1\n",
    "        results.append(res)\n",
    "    num_bankrupts.append(num_bankrupt)\n",
    "    avg_revenue_bankrupt.append(np.average(results))\n",
    "    avg_revenue_no_bankrupt.append(np.average([r for r in results if r != 0]))"
   ]
  },
  {
   "cell_type": "code",
   "execution_count": 12,
   "metadata": {},
   "outputs": [
    {
     "data": {
      "image/png": "[encoded data removed]",
      "text/plain": [
       "<Figure size 432x288 with 1 Axes>"
      ]
     },
     "metadata": {
      "needs_background": "light"
     },
     "output_type": "display_data"
    }
   ],
   "source": [
    "import matplotlib.pyplot as plt\n",
    "fig = plt.figure()\n",
    "ax = fig.add_axes([0,0,1,1])\n",
    "\n",
    "ax.set_ylabel('Number of Bankruptcy')\n",
    "ax.set_xlabel('m0')\n",
    "ax.set_title('Number of Bankruptcy by m0')\n",
    "\n",
    "ax.bar([str(m) for m in ms], num_bankrupts)\n",
    "plt.show()"
   ]
  },
  {
   "cell_type": "code",
   "execution_count": 13,
   "metadata": {},
   "outputs": [
    {
     "data": {
      "image/png": "[encoded data removed]",
      "text/plain": [
       "<Figure size 432x288 with 1 Axes>"
      ]
     },
     "metadata": {
      "needs_background": "light"
     },
     "output_type": "display_data"
    }
   ],
   "source": [
    "fig = plt.figure()\n",
    "ax = fig.add_axes([0,0,1,1])\n",
    "\n",
    "ax.set_ylabel('Average total revenue')\n",
    "ax.set_xlabel('m0')\n",
    "ax.set_title('Average total revenue by m0 excluding bankruptcy')\n",
    "\n",
    "ax.bar([str(m) for m in ms], avg_revenue_no_bankrupt)\n",
    "plt.show()"
   ]
  },
  {
   "cell_type": "code",
   "execution_count": 15,
   "metadata": {},
   "outputs": [
    {
     "data": {
      "image/png": "[encoded data removed]",
      "text/plain": [
       "<Figure size 432x288 with 1 Axes>"
      ]
     },
     "metadata": {
      "needs_background": "light"
     },
     "output_type": "display_data"
    }
   ],
   "source": [
    "fig = plt.figure()\n",
    "ax = fig.add_axes([0,0,1,1])\n",
    "\n",
    "ax.set_ylabel('Average total revenue')\n",
    "ax.set_xlabel('m0')\n",
    "ax.set_title('Average total revenue by m0 including bankruptcy')\n",
    "\n",
    "ax.bar([str(m) for m in ms], avg_revenue_bankrupt)\n",
    "plt.show()"
   ]
  },
  {
   "cell_type": "code",
   "execution_count": 17,
   "metadata": {},
   "outputs": [
    {
     "data": {
      "text/plain": [
       "([469, 351, 180, 49, 7, 0],\n",
       " [727.7741935483871,\n",
       "  798.6040268456376,\n",
       "  769.49375,\n",
       "  754.9179600886918,\n",
       "  695.5720081135903,\n",
       "  677.204],\n",
       " [45.122, 237.984, 492.476, 680.936, 685.834, 677.204])"
      ]
     },
     "execution_count": 17,
     "metadata": {},
     "output_type": "execute_result"
    }
   ],
   "source": [
    "num_bankrupts,avg_revenue_no_bankrupt,avg_revenue_bankrupt"
   ]
  },
  {
   "cell_type": "code",
   "execution_count": 9,
   "metadata": {},
   "outputs": [
    {
     "ename": "KeyboardInterrupt",
     "evalue": "",
     "output_type": "error",
     "traceback": [
      "\u001b[0;31m---------------------------------------------------------------------------\u001b[0m",
      "\u001b[0;31mKeyboardInterrupt\u001b[0m                         Traceback (most recent call last)",
      "\u001b[0;32m<ipython-input-9-f41c1ca03798>\u001b[0m in \u001b[0;36m<module>\u001b[0;34m\u001b[0m\n\u001b[1;32m     57\u001b[0m     \u001b[0mnum_bankrupt\u001b[0m \u001b[0;34m=\u001b[0m \u001b[0;36m0\u001b[0m\u001b[0;34m\u001b[0m\u001b[0;34m\u001b[0m\u001b[0m\n\u001b[1;32m     58\u001b[0m     \u001b[0;32mfor\u001b[0m \u001b[0m_\u001b[0m \u001b[0;32min\u001b[0m \u001b[0mrange\u001b[0m\u001b[0;34m(\u001b[0m\u001b[0mnum_simulation\u001b[0m\u001b[0;34m)\u001b[0m\u001b[0;34m:\u001b[0m\u001b[0;34m\u001b[0m\u001b[0;34m\u001b[0m\u001b[0m\n\u001b[0;32m---> 59\u001b[0;31m         \u001b[0mres\u001b[0m \u001b[0;34m=\u001b[0m \u001b[0msimulate\u001b[0m\u001b[0;34m(\u001b[0m\u001b[0mm\u001b[0m \u001b[0;34m=\u001b[0m \u001b[0mm\u001b[0m\u001b[0;34m)\u001b[0m\u001b[0;34m\u001b[0m\u001b[0;34m\u001b[0m\u001b[0m\n\u001b[0m\u001b[1;32m     60\u001b[0m         \u001b[0;32mif\u001b[0m \u001b[0mres\u001b[0m \u001b[0;34m==\u001b[0m \u001b[0;36m0\u001b[0m\u001b[0;34m:\u001b[0m\u001b[0;34m\u001b[0m\u001b[0;34m\u001b[0m\u001b[0m\n\u001b[1;32m     61\u001b[0m             \u001b[0mnum_bankrupt\u001b[0m \u001b[0;34m+=\u001b[0m \u001b[0;36m1\u001b[0m\u001b[0;34m\u001b[0m\u001b[0;34m\u001b[0m\u001b[0m\n",
      "\u001b[0;32m<ipython-input-9-f41c1ca03798>\u001b[0m in \u001b[0;36msimulate\u001b[0;34m(u, m, revenue, fixed_cost, num_neighbors)\u001b[0m\n\u001b[1;32m     40\u001b[0m     \u001b[0mneighbors\u001b[0m \u001b[0;34m=\u001b[0m \u001b[0;34m[\u001b[0m\u001b[0;36m0\u001b[0m \u001b[0;32mfor\u001b[0m \u001b[0m_\u001b[0m \u001b[0;32min\u001b[0m \u001b[0mrange\u001b[0m\u001b[0;34m(\u001b[0m\u001b[0mnum_neighbors\u001b[0m\u001b[0;34m)\u001b[0m\u001b[0;34m]\u001b[0m\u001b[0;34m\u001b[0m\u001b[0;34m\u001b[0m\u001b[0m\n\u001b[1;32m     41\u001b[0m     \u001b[0;32mfor\u001b[0m \u001b[0mi\u001b[0m \u001b[0;32min\u001b[0m \u001b[0mrange\u001b[0m\u001b[0;34m(\u001b[0m\u001b[0;36m20\u001b[0m\u001b[0;34m)\u001b[0m\u001b[0;34m:\u001b[0m\u001b[0;34m\u001b[0m\u001b[0;34m\u001b[0m\u001b[0m\n\u001b[0;32m---> 42\u001b[0;31m         \u001b[0mu\u001b[0m \u001b[0;34m=\u001b[0m \u001b[0msimulate_region\u001b[0m\u001b[0;34m(\u001b[0m\u001b[0mu\u001b[0m\u001b[0;34m)\u001b[0m\u001b[0;34m\u001b[0m\u001b[0;34m\u001b[0m\u001b[0m\n\u001b[0m\u001b[1;32m     43\u001b[0m         \u001b[0mrevenue\u001b[0m \u001b[0;34m+=\u001b[0m \u001b[0;34m(\u001b[0m\u001b[0mu\u001b[0m \u001b[0;34m-\u001b[0m \u001b[0mfixed_cost\u001b[0m\u001b[0;34m)\u001b[0m\u001b[0;34m\u001b[0m\u001b[0;34m\u001b[0m\u001b[0m\n\u001b[1;32m     44\u001b[0m         \u001b[0;32mif\u001b[0m \u001b[0mu\u001b[0m \u001b[0;34m>\u001b[0m \u001b[0mm\u001b[0m \u001b[0;34m*\u001b[0m \u001b[0mpopulation\u001b[0m\u001b[0;34m:\u001b[0m\u001b[0;34m\u001b[0m\u001b[0;34m\u001b[0m\u001b[0m\n",
      "\u001b[0;32m<ipython-input-9-f41c1ca03798>\u001b[0m in \u001b[0;36msimulate_region\u001b[0;34m(u, always)\u001b[0m\n\u001b[1;32m     19\u001b[0m     \u001b[0musers\u001b[0m \u001b[0;34m=\u001b[0m \u001b[0mnp\u001b[0m\u001b[0;34m.\u001b[0m\u001b[0marray\u001b[0m\u001b[0;34m(\u001b[0m\u001b[0;34m[\u001b[0m\u001b[0mu\u001b[0m \u001b[0;32mfor\u001b[0m \u001b[0m_\u001b[0m \u001b[0;32min\u001b[0m \u001b[0mrange\u001b[0m\u001b[0;34m(\u001b[0m\u001b[0mu\u001b[0m\u001b[0;34m)\u001b[0m\u001b[0;34m]\u001b[0m\u001b[0;34m)\u001b[0m\u001b[0;34m\u001b[0m\u001b[0;34m\u001b[0m\u001b[0m\n\u001b[1;32m     20\u001b[0m     \u001b[0mu\u001b[0m \u001b[0;34m+=\u001b[0m \u001b[0msum\u001b[0m\u001b[0;34m(\u001b[0m\u001b[0mvecGrow\u001b[0m\u001b[0;34m(\u001b[0m\u001b[0mnonusers\u001b[0m\u001b[0;34m)\u001b[0m\u001b[0;34m)\u001b[0m\u001b[0;34m\u001b[0m\u001b[0;34m\u001b[0m\u001b[0m\n\u001b[0;32m---> 21\u001b[0;31m     \u001b[0mu\u001b[0m \u001b[0;34m-=\u001b[0m \u001b[0msum\u001b[0m\u001b[0;34m(\u001b[0m\u001b[0mvecShrink\u001b[0m\u001b[0;34m(\u001b[0m\u001b[0musers\u001b[0m\u001b[0;34m)\u001b[0m\u001b[0;34m)\u001b[0m\u001b[0;34m\u001b[0m\u001b[0;34m\u001b[0m\u001b[0m\n\u001b[0m\u001b[1;32m     22\u001b[0m     \u001b[0;32mreturn\u001b[0m \u001b[0mu\u001b[0m\u001b[0;34m\u001b[0m\u001b[0;34m\u001b[0m\u001b[0m\n\u001b[1;32m     23\u001b[0m \u001b[0;34m\u001b[0m\u001b[0m\n",
      "\u001b[0;32m~/anaconda3/anaconda3/lib/python3.7/site-packages/numpy/lib/function_base.py\u001b[0m in \u001b[0;36m__call__\u001b[0;34m(self, *args, **kwargs)\u001b[0m\n\u001b[1;32m   2089\u001b[0m             \u001b[0mvargs\u001b[0m\u001b[0;34m.\u001b[0m\u001b[0mextend\u001b[0m\u001b[0;34m(\u001b[0m\u001b[0;34m[\u001b[0m\u001b[0mkwargs\u001b[0m\u001b[0;34m[\u001b[0m\u001b[0m_n\u001b[0m\u001b[0;34m]\u001b[0m \u001b[0;32mfor\u001b[0m \u001b[0m_n\u001b[0m \u001b[0;32min\u001b[0m \u001b[0mnames\u001b[0m\u001b[0;34m]\u001b[0m\u001b[0;34m)\u001b[0m\u001b[0;34m\u001b[0m\u001b[0;34m\u001b[0m\u001b[0m\n\u001b[1;32m   2090\u001b[0m \u001b[0;34m\u001b[0m\u001b[0m\n\u001b[0;32m-> 2091\u001b[0;31m         \u001b[0;32mreturn\u001b[0m \u001b[0mself\u001b[0m\u001b[0;34m.\u001b[0m\u001b[0m_vectorize_call\u001b[0m\u001b[0;34m(\u001b[0m\u001b[0mfunc\u001b[0m\u001b[0;34m=\u001b[0m\u001b[0mfunc\u001b[0m\u001b[0;34m,\u001b[0m \u001b[0margs\u001b[0m\u001b[0;34m=\u001b[0m\u001b[0mvargs\u001b[0m\u001b[0;34m)\u001b[0m\u001b[0;34m\u001b[0m\u001b[0;34m\u001b[0m\u001b[0m\n\u001b[0m\u001b[1;32m   2092\u001b[0m \u001b[0;34m\u001b[0m\u001b[0m\n\u001b[1;32m   2093\u001b[0m     \u001b[0;32mdef\u001b[0m \u001b[0m_get_ufunc_and_otypes\u001b[0m\u001b[0;34m(\u001b[0m\u001b[0mself\u001b[0m\u001b[0;34m,\u001b[0m \u001b[0mfunc\u001b[0m\u001b[0;34m,\u001b[0m \u001b[0margs\u001b[0m\u001b[0;34m)\u001b[0m\u001b[0;34m:\u001b[0m\u001b[0;34m\u001b[0m\u001b[0;34m\u001b[0m\u001b[0m\n",
      "\u001b[0;32m~/anaconda3/anaconda3/lib/python3.7/site-packages/numpy/lib/function_base.py\u001b[0m in \u001b[0;36m_vectorize_call\u001b[0;34m(self, func, args)\u001b[0m\n\u001b[1;32m   2165\u001b[0m                       for a in args]\n\u001b[1;32m   2166\u001b[0m \u001b[0;34m\u001b[0m\u001b[0m\n\u001b[0;32m-> 2167\u001b[0;31m             \u001b[0moutputs\u001b[0m \u001b[0;34m=\u001b[0m \u001b[0mufunc\u001b[0m\u001b[0;34m(\u001b[0m\u001b[0;34m*\u001b[0m\u001b[0minputs\u001b[0m\u001b[0;34m)\u001b[0m\u001b[0;34m\u001b[0m\u001b[0;34m\u001b[0m\u001b[0m\n\u001b[0m\u001b[1;32m   2168\u001b[0m \u001b[0;34m\u001b[0m\u001b[0m\n\u001b[1;32m   2169\u001b[0m             \u001b[0;32mif\u001b[0m \u001b[0mufunc\u001b[0m\u001b[0;34m.\u001b[0m\u001b[0mnout\u001b[0m \u001b[0;34m==\u001b[0m \u001b[0;36m1\u001b[0m\u001b[0;34m:\u001b[0m\u001b[0;34m\u001b[0m\u001b[0;34m\u001b[0m\u001b[0m\n",
      "\u001b[0;32m<ipython-input-9-f41c1ca03798>\u001b[0m in \u001b[0;36mshrink\u001b[0;34m(x)\u001b[0m\n\u001b[1;32m      8\u001b[0m \u001b[0;34m\u001b[0m\u001b[0m\n\u001b[1;32m      9\u001b[0m \u001b[0;32mdef\u001b[0m \u001b[0mshrink\u001b[0m\u001b[0;34m(\u001b[0m\u001b[0mx\u001b[0m\u001b[0;34m)\u001b[0m\u001b[0;34m:\u001b[0m\u001b[0;34m\u001b[0m\u001b[0;34m\u001b[0m\u001b[0m\n\u001b[0;32m---> 10\u001b[0;31m     \u001b[0;32mreturn\u001b[0m \u001b[0;36m1\u001b[0m \u001b[0;32mif\u001b[0m \u001b[0;36m0.625\u001b[0m \u001b[0;34m/\u001b[0m \u001b[0mx\u001b[0m \u001b[0;34m>=\u001b[0m \u001b[0mrandom\u001b[0m\u001b[0;34m.\u001b[0m\u001b[0muniform\u001b[0m\u001b[0;34m(\u001b[0m\u001b[0;36m0\u001b[0m\u001b[0;34m,\u001b[0m \u001b[0;36m1\u001b[0m\u001b[0;34m)\u001b[0m \u001b[0;32melse\u001b[0m \u001b[0;36m0\u001b[0m\u001b[0;34m\u001b[0m\u001b[0;34m\u001b[0m\u001b[0m\n\u001b[0m\u001b[1;32m     11\u001b[0m \u001b[0;34m\u001b[0m\u001b[0m\n\u001b[1;32m     12\u001b[0m \u001b[0mvecGrow\u001b[0m \u001b[0;34m=\u001b[0m \u001b[0mnp\u001b[0m\u001b[0;34m.\u001b[0m\u001b[0mvectorize\u001b[0m\u001b[0;34m(\u001b[0m\u001b[0mgrow\u001b[0m\u001b[0;34m)\u001b[0m\u001b[0;34m\u001b[0m\u001b[0;34m\u001b[0m\u001b[0m\n",
      "\u001b[0;31mKeyboardInterrupt\u001b[0m: "
     ]
    }
   ],
   "source": [
    "import math\n",
    "import random\n",
    "import numpy as np\n",
    "\n",
    "# Helper functions\n",
    "def grow(x):\n",
    "    return 1 if math.sqrt(x + 1) / 100 >= random.uniform(0, 1) else 0\n",
    "\n",
    "def shrink(x):\n",
    "    return 1 if 0.625 / x >= random.uniform(0, 1) else 0\n",
    "\n",
    "vecGrow = np.vectorize(grow)\n",
    "vecShrink = np.vectorize(shrink)\n",
    "\n",
    "def simulate_region(u, always = True):\n",
    "    if u == 0:\n",
    "        return 1 if always else grow(u)\n",
    "    nonusers = np.array([u for _ in range(100-u)])\n",
    "    users = np.array([u for _ in range(u)])\n",
    "    u += sum(vecGrow(nonusers))\n",
    "    u -= sum(vecShrink(users))\n",
    "    return u\n",
    "\n",
    "vecSimulate = np.vectorize(simulate_region)\n",
    "\n",
    "# Hyperparameters\n",
    "population = 100\n",
    "revenue = 10\n",
    "fixed_cost = 10\n",
    "num_neighbors = 4\n",
    "u0 = 10\n",
    "m0 = 0.20\n",
    "ms = [0.20, 0.22, 0.24, 0.26, 0.28, 0.30]\n",
    "u = u0\n",
    "\n",
    "# Simulation\n",
    "num_simulation = 500\n",
    "\n",
    "def simulate(u = u0, m = m0, revenue = revenue, fixed_cost = fixed_cost, num_neighbors = num_neighbors):\n",
    "    neighbors = [0 for _ in range(num_neighbors)]\n",
    "    for i in range(20):\n",
    "        u = simulate_region(u)\n",
    "        revenue += (u - fixed_cost)\n",
    "        if u > m * population:\n",
    "            neighbors = vecSimulate(neighbors)\n",
    "            revenue += sum([u for u in neighbors if u != 0])\n",
    "            revenue -= len(neighbors) * fixed_cost\n",
    "        if revenue < 0:\n",
    "            return 0\n",
    "    return revenue\n",
    "\n",
    "num_bankrupts = []\n",
    "avg_revenue_no_bankrupt = []\n",
    "avg_revenue_bankrupt = []\n",
    "for m in ms:\n",
    "    results = []\n",
    "    num_bankrupt = 0\n",
    "    for _ in range(num_simulation):\n",
    "        res = simulate(m = m)\n",
    "        if res == 0:\n",
    "            num_bankrupt += 1\n",
    "        results.append(res)\n",
    "    num_bankrupts.append(num_bankrupt)\n",
    "    avg_revenue_bankrupt.append(np.average(results))\n",
    "    avg_revenue_no_bankrupt.append(np.average([r for r in results if r != 0]))\n",
    "    \n",
    "# Plotting\n",
    "import matplotlib.pyplot as plt\n",
    "fig = plt.figure()\n",
    "ax = fig.add_axes([0,0,1,1])\n",
    "\n",
    "ax.set_ylabel('Number of Bankruptcy')\n",
    "ax.set_ylabel('m0')\n",
    "ax.set_title('Number of Bankruptcy by m0')\n",
    "\n",
    "ax.bar([str(m) for m in ms], num_bankrupts)\n",
    "plt.show()\n",
    "\n",
    "fig = plt.figure()\n",
    "ax = fig.add_axes([0,0,1,1])\n",
    "\n",
    "ax.set_ylabel('Average total revenue')\n",
    "ax.set_ylabel('m0')\n",
    "ax.set_title('Average total revenue by m0 excluding bankruptcy')\n",
    "\n",
    "ax.bar([str(m) for m in ms], avg_revenue_no_bankrupt)\n",
    "plt.show()\n",
    "\n",
    "fig = plt.figure()\n",
    "ax = fig.add_axes([0,0,1,1])\n",
    "\n",
    "ax.set_ylabel('Average total revenue')\n",
    "ax.set_ylabel('m0')\n",
    "ax.set_title('Average total revenue by m0 including bankruptcy')\n",
    "\n",
    "ax.bar([str(m) for m in ms], avg_revenue_bankrupt)\n",
    "plt.show()"
   ]
  },
  {
   "cell_type": "code",
   "execution_count": null,
   "metadata": {},
   "outputs": [],
   "source": []
  }
 ],
 "metadata": {
  "kernelspec": {
   "display_name": "Python 3",
   "language": "python",
   "name": "python3"
  },
  "language_info": {
   "codemirror_mode": {
    "name": "ipython",
    "version": 3
   },
   "file_extension": ".py",
   "mimetype": "text/x-python",
   "name": "python",
   "nbconvert_exporter": "python",
   "pygments_lexer": "ipython3",
   "version": "3.7.3"
  }
 },
 "nbformat": 4,
 "nbformat_minor": 4
}
